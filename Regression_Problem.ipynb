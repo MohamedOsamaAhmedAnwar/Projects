{
 "cells": [
  {
   "cell_type": "code",
   "execution_count": 51,
   "metadata": {},
   "outputs": [],
   "source": [
    "import pandas as pd \n",
    "import numpy as np\n",
    "import seaborn as sns\n",
    "import matplotlib.pyplot as plt\n",
    "from sklearn.feature_extraction.text import TfidfVectorizer\n",
    "from sklearn.preprocessing import LabelEncoder\n",
    "from sklearn.svm import LinearSVC\n",
    "from sklearn.svm import SVC\n",
    "from sklearn.model_selection import train_test_split\n",
    "from sklearn.metrics import accuracy_score, classification_report"
   ]
  },
  {
   "cell_type": "code",
   "execution_count": 52,
   "metadata": {},
   "outputs": [],
   "source": [
    "data = pd.read_csv(\"house_price_prediction_dataset.csv\")"
   ]
  },
  {
   "cell_type": "code",
   "execution_count": 53,
   "metadata": {},
   "outputs": [
    {
     "data": {
      "text/html": [
       "<div>\n",
       "<style scoped>\n",
       "    .dataframe tbody tr th:only-of-type {\n",
       "        vertical-align: middle;\n",
       "    }\n",
       "\n",
       "    .dataframe tbody tr th {\n",
       "        vertical-align: top;\n",
       "    }\n",
       "\n",
       "    .dataframe thead th {\n",
       "        text-align: right;\n",
       "    }\n",
       "</style>\n",
       "<table border=\"1\" class=\"dataframe\">\n",
       "  <thead>\n",
       "    <tr style=\"text-align: right;\">\n",
       "      <th></th>\n",
       "      <th>square_footage</th>\n",
       "      <th>num_bedrooms</th>\n",
       "      <th>num_bathrooms</th>\n",
       "      <th>age_of_house</th>\n",
       "      <th>lot_size</th>\n",
       "      <th>garage_size</th>\n",
       "      <th>num_floors</th>\n",
       "      <th>proximity_to_schools</th>\n",
       "      <th>proximity_to_shops</th>\n",
       "      <th>crime_rate</th>\n",
       "      <th>...</th>\n",
       "      <th>num_parks_nearby</th>\n",
       "      <th>year_built</th>\n",
       "      <th>renovation_score</th>\n",
       "      <th>num_windows</th>\n",
       "      <th>roof_type</th>\n",
       "      <th>basement_size</th>\n",
       "      <th>num_fireplaces</th>\n",
       "      <th>kitchen_quality</th>\n",
       "      <th>heating_type</th>\n",
       "      <th>target</th>\n",
       "    </tr>\n",
       "  </thead>\n",
       "  <tbody>\n",
       "    <tr>\n",
       "      <th>0</th>\n",
       "      <td>2451</td>\n",
       "      <td>4</td>\n",
       "      <td>3</td>\n",
       "      <td>56</td>\n",
       "      <td>13196</td>\n",
       "      <td>2</td>\n",
       "      <td>0.244333</td>\n",
       "      <td>0.843215</td>\n",
       "      <td>0.098098</td>\n",
       "      <td>-0.546847</td>\n",
       "      <td>...</td>\n",
       "      <td>0.240875</td>\n",
       "      <td>-0.795930</td>\n",
       "      <td>-0.649765</td>\n",
       "      <td>0.887181</td>\n",
       "      <td>0.848465</td>\n",
       "      <td>0.128567</td>\n",
       "      <td>1.485817</td>\n",
       "      <td>-0.742883</td>\n",
       "      <td>1.154029</td>\n",
       "      <td>-2.455798</td>\n",
       "    </tr>\n",
       "    <tr>\n",
       "      <th>1</th>\n",
       "      <td>4928</td>\n",
       "      <td>5</td>\n",
       "      <td>2</td>\n",
       "      <td>63</td>\n",
       "      <td>18569</td>\n",
       "      <td>0</td>\n",
       "      <td>0.454673</td>\n",
       "      <td>-1.760636</td>\n",
       "      <td>-0.285096</td>\n",
       "      <td>0.079694</td>\n",
       "      <td>...</td>\n",
       "      <td>-0.472501</td>\n",
       "      <td>0.493254</td>\n",
       "      <td>-1.284945</td>\n",
       "      <td>-0.028902</td>\n",
       "      <td>-2.159269</td>\n",
       "      <td>-1.874056</td>\n",
       "      <td>2.196332</td>\n",
       "      <td>-0.345137</td>\n",
       "      <td>-0.499008</td>\n",
       "      <td>13.052119</td>\n",
       "    </tr>\n",
       "    <tr>\n",
       "      <th>2</th>\n",
       "      <td>2389</td>\n",
       "      <td>1</td>\n",
       "      <td>4</td>\n",
       "      <td>9</td>\n",
       "      <td>14818</td>\n",
       "      <td>2</td>\n",
       "      <td>-1.184575</td>\n",
       "      <td>-1.387315</td>\n",
       "      <td>-0.091265</td>\n",
       "      <td>-0.328132</td>\n",
       "      <td>...</td>\n",
       "      <td>0.909184</td>\n",
       "      <td>-0.369620</td>\n",
       "      <td>1.540308</td>\n",
       "      <td>-2.174386</td>\n",
       "      <td>-0.322276</td>\n",
       "      <td>-0.623095</td>\n",
       "      <td>0.263032</td>\n",
       "      <td>-0.891859</td>\n",
       "      <td>-0.510269</td>\n",
       "      <td>27.620586</td>\n",
       "    </tr>\n",
       "    <tr>\n",
       "      <th>3</th>\n",
       "      <td>3644</td>\n",
       "      <td>5</td>\n",
       "      <td>4</td>\n",
       "      <td>59</td>\n",
       "      <td>15015</td>\n",
       "      <td>1</td>\n",
       "      <td>-0.659495</td>\n",
       "      <td>-0.262840</td>\n",
       "      <td>1.178087</td>\n",
       "      <td>0.700210</td>\n",
       "      <td>...</td>\n",
       "      <td>-1.124166</td>\n",
       "      <td>-1.156127</td>\n",
       "      <td>0.700972</td>\n",
       "      <td>-1.108765</td>\n",
       "      <td>-1.091047</td>\n",
       "      <td>0.367360</td>\n",
       "      <td>1.602844</td>\n",
       "      <td>1.073340</td>\n",
       "      <td>-2.207548</td>\n",
       "      <td>32.551291</td>\n",
       "    </tr>\n",
       "    <tr>\n",
       "      <th>4</th>\n",
       "      <td>2576</td>\n",
       "      <td>3</td>\n",
       "      <td>1</td>\n",
       "      <td>51</td>\n",
       "      <td>19964</td>\n",
       "      <td>0</td>\n",
       "      <td>-0.163580</td>\n",
       "      <td>-0.785582</td>\n",
       "      <td>0.594962</td>\n",
       "      <td>0.854973</td>\n",
       "      <td>...</td>\n",
       "      <td>1.651229</td>\n",
       "      <td>-1.041363</td>\n",
       "      <td>2.771268</td>\n",
       "      <td>-1.408570</td>\n",
       "      <td>0.884184</td>\n",
       "      <td>-0.156176</td>\n",
       "      <td>1.281519</td>\n",
       "      <td>1.825647</td>\n",
       "      <td>-0.886458</td>\n",
       "      <td>56.145996</td>\n",
       "    </tr>\n",
       "  </tbody>\n",
       "</table>\n",
       "<p>5 rows × 21 columns</p>\n",
       "</div>"
      ],
      "text/plain": [
       "   square_footage  num_bedrooms  num_bathrooms  age_of_house  lot_size  \\\n",
       "0            2451             4              3            56     13196   \n",
       "1            4928             5              2            63     18569   \n",
       "2            2389             1              4             9     14818   \n",
       "3            3644             5              4            59     15015   \n",
       "4            2576             3              1            51     19964   \n",
       "\n",
       "   garage_size  num_floors  proximity_to_schools  proximity_to_shops  \\\n",
       "0            2    0.244333              0.843215            0.098098   \n",
       "1            0    0.454673             -1.760636           -0.285096   \n",
       "2            2   -1.184575             -1.387315           -0.091265   \n",
       "3            1   -0.659495             -0.262840            1.178087   \n",
       "4            0   -0.163580             -0.785582            0.594962   \n",
       "\n",
       "   crime_rate  ...  num_parks_nearby  year_built  renovation_score  \\\n",
       "0   -0.546847  ...          0.240875   -0.795930         -0.649765   \n",
       "1    0.079694  ...         -0.472501    0.493254         -1.284945   \n",
       "2   -0.328132  ...          0.909184   -0.369620          1.540308   \n",
       "3    0.700210  ...         -1.124166   -1.156127          0.700972   \n",
       "4    0.854973  ...          1.651229   -1.041363          2.771268   \n",
       "\n",
       "   num_windows  roof_type  basement_size  num_fireplaces  kitchen_quality  \\\n",
       "0     0.887181   0.848465       0.128567        1.485817        -0.742883   \n",
       "1    -0.028902  -2.159269      -1.874056        2.196332        -0.345137   \n",
       "2    -2.174386  -0.322276      -0.623095        0.263032        -0.891859   \n",
       "3    -1.108765  -1.091047       0.367360        1.602844         1.073340   \n",
       "4    -1.408570   0.884184      -0.156176        1.281519         1.825647   \n",
       "\n",
       "   heating_type     target  \n",
       "0      1.154029  -2.455798  \n",
       "1     -0.499008  13.052119  \n",
       "2     -0.510269  27.620586  \n",
       "3     -2.207548  32.551291  \n",
       "4     -0.886458  56.145996  \n",
       "\n",
       "[5 rows x 21 columns]"
      ]
     },
     "execution_count": 53,
     "metadata": {},
     "output_type": "execute_result"
    }
   ],
   "source": [
    "data.head()"
   ]
  },
  {
   "cell_type": "code",
   "execution_count": 54,
   "metadata": {},
   "outputs": [
    {
     "name": "stdout",
     "output_type": "stream",
     "text": [
      "<class 'pandas.core.frame.DataFrame'>\n",
      "RangeIndex: 20000 entries, 0 to 19999\n",
      "Data columns (total 21 columns):\n",
      " #   Column                   Non-Null Count  Dtype  \n",
      "---  ------                   --------------  -----  \n",
      " 0   square_footage           20000 non-null  int64  \n",
      " 1   num_bedrooms             20000 non-null  int64  \n",
      " 2   num_bathrooms            20000 non-null  int64  \n",
      " 3   age_of_house             20000 non-null  int64  \n",
      " 4   lot_size                 20000 non-null  int64  \n",
      " 5   garage_size              20000 non-null  int64  \n",
      " 6   num_floors               20000 non-null  float64\n",
      " 7   proximity_to_schools     20000 non-null  float64\n",
      " 8   proximity_to_shops       20000 non-null  float64\n",
      " 9   crime_rate               20000 non-null  float64\n",
      " 10  public_transport_access  20000 non-null  float64\n",
      " 11  num_parks_nearby         20000 non-null  float64\n",
      " 12  year_built               20000 non-null  float64\n",
      " 13  renovation_score         20000 non-null  float64\n",
      " 14  num_windows              20000 non-null  float64\n",
      " 15  roof_type                20000 non-null  float64\n",
      " 16  basement_size            20000 non-null  float64\n",
      " 17  num_fireplaces           20000 non-null  float64\n",
      " 18  kitchen_quality          20000 non-null  float64\n",
      " 19  heating_type             20000 non-null  float64\n",
      " 20  target                   20000 non-null  float64\n",
      "dtypes: float64(15), int64(6)\n",
      "memory usage: 3.2 MB\n"
     ]
    }
   ],
   "source": [
    "data.info()"
   ]
  },
  {
   "cell_type": "code",
   "execution_count": 55,
   "metadata": {},
   "outputs": [
    {
     "data": {
      "text/html": [
       "<div>\n",
       "<style scoped>\n",
       "    .dataframe tbody tr th:only-of-type {\n",
       "        vertical-align: middle;\n",
       "    }\n",
       "\n",
       "    .dataframe tbody tr th {\n",
       "        vertical-align: top;\n",
       "    }\n",
       "\n",
       "    .dataframe thead th {\n",
       "        text-align: right;\n",
       "    }\n",
       "</style>\n",
       "<table border=\"1\" class=\"dataframe\">\n",
       "  <thead>\n",
       "    <tr style=\"text-align: right;\">\n",
       "      <th></th>\n",
       "      <th>square_footage</th>\n",
       "      <th>num_bedrooms</th>\n",
       "      <th>num_bathrooms</th>\n",
       "      <th>age_of_house</th>\n",
       "      <th>lot_size</th>\n",
       "      <th>garage_size</th>\n",
       "      <th>num_floors</th>\n",
       "      <th>proximity_to_schools</th>\n",
       "      <th>proximity_to_shops</th>\n",
       "      <th>crime_rate</th>\n",
       "      <th>...</th>\n",
       "      <th>num_parks_nearby</th>\n",
       "      <th>year_built</th>\n",
       "      <th>renovation_score</th>\n",
       "      <th>num_windows</th>\n",
       "      <th>roof_type</th>\n",
       "      <th>basement_size</th>\n",
       "      <th>num_fireplaces</th>\n",
       "      <th>kitchen_quality</th>\n",
       "      <th>heating_type</th>\n",
       "      <th>target</th>\n",
       "    </tr>\n",
       "  </thead>\n",
       "  <tbody>\n",
       "    <tr>\n",
       "      <th>count</th>\n",
       "      <td>20000.000000</td>\n",
       "      <td>20000.000000</td>\n",
       "      <td>20000.000000</td>\n",
       "      <td>20000.000000</td>\n",
       "      <td>20000.000000</td>\n",
       "      <td>20000.000000</td>\n",
       "      <td>20000.000000</td>\n",
       "      <td>20000.000000</td>\n",
       "      <td>20000.000000</td>\n",
       "      <td>20000.000000</td>\n",
       "      <td>...</td>\n",
       "      <td>20000.000000</td>\n",
       "      <td>20000.000000</td>\n",
       "      <td>20000.000000</td>\n",
       "      <td>20000.000000</td>\n",
       "      <td>20000.000000</td>\n",
       "      <td>20000.000000</td>\n",
       "      <td>20000.000000</td>\n",
       "      <td>20000.000000</td>\n",
       "      <td>20000.000000</td>\n",
       "      <td>20000.000000</td>\n",
       "    </tr>\n",
       "    <tr>\n",
       "      <th>mean</th>\n",
       "      <td>2755.599800</td>\n",
       "      <td>3.490900</td>\n",
       "      <td>2.484700</td>\n",
       "      <td>49.458050</td>\n",
       "      <td>10266.972850</td>\n",
       "      <td>1.002450</td>\n",
       "      <td>0.006618</td>\n",
       "      <td>0.012764</td>\n",
       "      <td>-0.003715</td>\n",
       "      <td>0.002002</td>\n",
       "      <td>...</td>\n",
       "      <td>-0.015310</td>\n",
       "      <td>0.001790</td>\n",
       "      <td>-0.005813</td>\n",
       "      <td>0.004059</td>\n",
       "      <td>-0.007163</td>\n",
       "      <td>0.004682</td>\n",
       "      <td>-0.009168</td>\n",
       "      <td>0.004657</td>\n",
       "      <td>-0.003312</td>\n",
       "      <td>1.308956</td>\n",
       "    </tr>\n",
       "    <tr>\n",
       "      <th>std</th>\n",
       "      <td>1298.527905</td>\n",
       "      <td>1.710516</td>\n",
       "      <td>1.119432</td>\n",
       "      <td>28.822787</td>\n",
       "      <td>5615.336111</td>\n",
       "      <td>0.814541</td>\n",
       "      <td>1.001601</td>\n",
       "      <td>1.003785</td>\n",
       "      <td>1.002464</td>\n",
       "      <td>1.000956</td>\n",
       "      <td>...</td>\n",
       "      <td>1.006036</td>\n",
       "      <td>1.000736</td>\n",
       "      <td>1.003048</td>\n",
       "      <td>0.999184</td>\n",
       "      <td>1.000090</td>\n",
       "      <td>1.002127</td>\n",
       "      <td>0.997764</td>\n",
       "      <td>1.005876</td>\n",
       "      <td>1.006907</td>\n",
       "      <td>193.441651</td>\n",
       "    </tr>\n",
       "    <tr>\n",
       "      <th>min</th>\n",
       "      <td>500.000000</td>\n",
       "      <td>1.000000</td>\n",
       "      <td>1.000000</td>\n",
       "      <td>0.000000</td>\n",
       "      <td>500.000000</td>\n",
       "      <td>0.000000</td>\n",
       "      <td>-3.729174</td>\n",
       "      <td>-4.004341</td>\n",
       "      <td>-4.003598</td>\n",
       "      <td>-3.856375</td>\n",
       "      <td>...</td>\n",
       "      <td>-4.413886</td>\n",
       "      <td>-3.940590</td>\n",
       "      <td>-3.726141</td>\n",
       "      <td>-4.465604</td>\n",
       "      <td>-3.814205</td>\n",
       "      <td>-4.312973</td>\n",
       "      <td>-3.999332</td>\n",
       "      <td>-4.462969</td>\n",
       "      <td>-4.295391</td>\n",
       "      <td>-792.327499</td>\n",
       "    </tr>\n",
       "    <tr>\n",
       "      <th>25%</th>\n",
       "      <td>1634.750000</td>\n",
       "      <td>2.000000</td>\n",
       "      <td>1.000000</td>\n",
       "      <td>25.000000</td>\n",
       "      <td>5426.750000</td>\n",
       "      <td>0.000000</td>\n",
       "      <td>-0.668459</td>\n",
       "      <td>-0.669276</td>\n",
       "      <td>-0.675996</td>\n",
       "      <td>-0.673152</td>\n",
       "      <td>...</td>\n",
       "      <td>-0.695470</td>\n",
       "      <td>-0.675498</td>\n",
       "      <td>-0.682271</td>\n",
       "      <td>-0.667905</td>\n",
       "      <td>-0.690571</td>\n",
       "      <td>-0.672792</td>\n",
       "      <td>-0.671869</td>\n",
       "      <td>-0.675951</td>\n",
       "      <td>-0.686294</td>\n",
       "      <td>-129.436210</td>\n",
       "    </tr>\n",
       "    <tr>\n",
       "      <th>50%</th>\n",
       "      <td>2747.000000</td>\n",
       "      <td>3.000000</td>\n",
       "      <td>2.000000</td>\n",
       "      <td>49.000000</td>\n",
       "      <td>10300.500000</td>\n",
       "      <td>1.000000</td>\n",
       "      <td>0.004852</td>\n",
       "      <td>0.009701</td>\n",
       "      <td>-0.006133</td>\n",
       "      <td>-0.001292</td>\n",
       "      <td>...</td>\n",
       "      <td>-0.013497</td>\n",
       "      <td>-0.000190</td>\n",
       "      <td>-0.009882</td>\n",
       "      <td>0.004497</td>\n",
       "      <td>-0.018467</td>\n",
       "      <td>0.002594</td>\n",
       "      <td>-0.009871</td>\n",
       "      <td>0.002404</td>\n",
       "      <td>0.004181</td>\n",
       "      <td>0.679644</td>\n",
       "    </tr>\n",
       "    <tr>\n",
       "      <th>75%</th>\n",
       "      <td>3885.000000</td>\n",
       "      <td>5.000000</td>\n",
       "      <td>3.000000</td>\n",
       "      <td>75.000000</td>\n",
       "      <td>15135.000000</td>\n",
       "      <td>2.000000</td>\n",
       "      <td>0.681340</td>\n",
       "      <td>0.692143</td>\n",
       "      <td>0.659096</td>\n",
       "      <td>0.678344</td>\n",
       "      <td>...</td>\n",
       "      <td>0.659948</td>\n",
       "      <td>0.662893</td>\n",
       "      <td>0.667278</td>\n",
       "      <td>0.681398</td>\n",
       "      <td>0.667899</td>\n",
       "      <td>0.682990</td>\n",
       "      <td>0.670030</td>\n",
       "      <td>0.695076</td>\n",
       "      <td>0.675554</td>\n",
       "      <td>131.558207</td>\n",
       "    </tr>\n",
       "    <tr>\n",
       "      <th>max</th>\n",
       "      <td>4999.000000</td>\n",
       "      <td>6.000000</td>\n",
       "      <td>4.000000</td>\n",
       "      <td>99.000000</td>\n",
       "      <td>19998.000000</td>\n",
       "      <td>2.000000</td>\n",
       "      <td>3.976868</td>\n",
       "      <td>4.562115</td>\n",
       "      <td>3.691625</td>\n",
       "      <td>4.202026</td>\n",
       "      <td>...</td>\n",
       "      <td>3.767328</td>\n",
       "      <td>3.727833</td>\n",
       "      <td>3.775304</td>\n",
       "      <td>3.699115</td>\n",
       "      <td>3.852731</td>\n",
       "      <td>3.918185</td>\n",
       "      <td>4.479084</td>\n",
       "      <td>3.602832</td>\n",
       "      <td>3.536532</td>\n",
       "      <td>701.950959</td>\n",
       "    </tr>\n",
       "  </tbody>\n",
       "</table>\n",
       "<p>8 rows × 21 columns</p>\n",
       "</div>"
      ],
      "text/plain": [
       "       square_footage  num_bedrooms  num_bathrooms  age_of_house  \\\n",
       "count    20000.000000  20000.000000   20000.000000  20000.000000   \n",
       "mean      2755.599800      3.490900       2.484700     49.458050   \n",
       "std       1298.527905      1.710516       1.119432     28.822787   \n",
       "min        500.000000      1.000000       1.000000      0.000000   \n",
       "25%       1634.750000      2.000000       1.000000     25.000000   \n",
       "50%       2747.000000      3.000000       2.000000     49.000000   \n",
       "75%       3885.000000      5.000000       3.000000     75.000000   \n",
       "max       4999.000000      6.000000       4.000000     99.000000   \n",
       "\n",
       "           lot_size   garage_size    num_floors  proximity_to_schools  \\\n",
       "count  20000.000000  20000.000000  20000.000000          20000.000000   \n",
       "mean   10266.972850      1.002450      0.006618              0.012764   \n",
       "std     5615.336111      0.814541      1.001601              1.003785   \n",
       "min      500.000000      0.000000     -3.729174             -4.004341   \n",
       "25%     5426.750000      0.000000     -0.668459             -0.669276   \n",
       "50%    10300.500000      1.000000      0.004852              0.009701   \n",
       "75%    15135.000000      2.000000      0.681340              0.692143   \n",
       "max    19998.000000      2.000000      3.976868              4.562115   \n",
       "\n",
       "       proximity_to_shops    crime_rate  ...  num_parks_nearby    year_built  \\\n",
       "count        20000.000000  20000.000000  ...      20000.000000  20000.000000   \n",
       "mean            -0.003715      0.002002  ...         -0.015310      0.001790   \n",
       "std              1.002464      1.000956  ...          1.006036      1.000736   \n",
       "min             -4.003598     -3.856375  ...         -4.413886     -3.940590   \n",
       "25%             -0.675996     -0.673152  ...         -0.695470     -0.675498   \n",
       "50%             -0.006133     -0.001292  ...         -0.013497     -0.000190   \n",
       "75%              0.659096      0.678344  ...          0.659948      0.662893   \n",
       "max              3.691625      4.202026  ...          3.767328      3.727833   \n",
       "\n",
       "       renovation_score   num_windows     roof_type  basement_size  \\\n",
       "count      20000.000000  20000.000000  20000.000000   20000.000000   \n",
       "mean          -0.005813      0.004059     -0.007163       0.004682   \n",
       "std            1.003048      0.999184      1.000090       1.002127   \n",
       "min           -3.726141     -4.465604     -3.814205      -4.312973   \n",
       "25%           -0.682271     -0.667905     -0.690571      -0.672792   \n",
       "50%           -0.009882      0.004497     -0.018467       0.002594   \n",
       "75%            0.667278      0.681398      0.667899       0.682990   \n",
       "max            3.775304      3.699115      3.852731       3.918185   \n",
       "\n",
       "       num_fireplaces  kitchen_quality  heating_type        target  \n",
       "count    20000.000000     20000.000000  20000.000000  20000.000000  \n",
       "mean        -0.009168         0.004657     -0.003312      1.308956  \n",
       "std          0.997764         1.005876      1.006907    193.441651  \n",
       "min         -3.999332        -4.462969     -4.295391   -792.327499  \n",
       "25%         -0.671869        -0.675951     -0.686294   -129.436210  \n",
       "50%         -0.009871         0.002404      0.004181      0.679644  \n",
       "75%          0.670030         0.695076      0.675554    131.558207  \n",
       "max          4.479084         3.602832      3.536532    701.950959  \n",
       "\n",
       "[8 rows x 21 columns]"
      ]
     },
     "execution_count": 55,
     "metadata": {},
     "output_type": "execute_result"
    }
   ],
   "source": [
    "data.describe()"
   ]
  },
  {
   "cell_type": "code",
   "execution_count": 56,
   "metadata": {},
   "outputs": [
    {
     "data": {
      "text/plain": [
       "Index(['square_footage', 'num_bedrooms', 'num_bathrooms', 'age_of_house',\n",
       "       'lot_size', 'garage_size', 'num_floors', 'proximity_to_schools',\n",
       "       'proximity_to_shops', 'crime_rate', 'public_transport_access',\n",
       "       'num_parks_nearby', 'year_built', 'renovation_score', 'num_windows',\n",
       "       'roof_type', 'basement_size', 'num_fireplaces', 'kitchen_quality',\n",
       "       'heating_type', 'target'],\n",
       "      dtype='object')"
      ]
     },
     "execution_count": 56,
     "metadata": {},
     "output_type": "execute_result"
    }
   ],
   "source": [
    "data.columns"
   ]
  },
  {
   "cell_type": "code",
   "execution_count": 57,
   "metadata": {},
   "outputs": [
    {
     "name": "stdout",
     "output_type": "stream",
     "text": [
      "\n",
      " name of feature  square_footage \n",
      "\n"
     ]
    },
    {
     "name": "stderr",
     "output_type": "stream",
     "text": [
      "c:\\Users\\mohamed osama\\anaconda3\\Lib\\site-packages\\seaborn\\categorical.py:1794: FutureWarning: use_inf_as_na option is deprecated and will be removed in a future version. Convert inf values to NaN before operating instead.\n",
      "  with pd.option_context('mode.use_inf_as_na', True):\n"
     ]
    },
    {
     "data": {
      "image/png": "[encoded data removed]",
      "text/plain": [
       "<Figure size 640x480 with 1 Axes>"
      ]
     },
     "metadata": {},
     "output_type": "display_data"
    },
    {
     "name": "stdout",
     "output_type": "stream",
     "text": [
      "\n",
      " name of feature  num_bedrooms \n",
      "\n"
     ]
    },
    {
     "name": "stderr",
     "output_type": "stream",
     "text": [
      "c:\\Users\\mohamed osama\\anaconda3\\Lib\\site-packages\\seaborn\\categorical.py:1794: FutureWarning: use_inf_as_na option is deprecated and will be removed in a future version. Convert inf values to NaN before operating instead.\n",
      "  with pd.option_context('mode.use_inf_as_na', True):\n"
     ]
    },
    {
     "data": {
      "image/png": "[encoded data removed]",
      "text/plain": [
       "<Figure size 640x480 with 1 Axes>"
      ]
     },
     "metadata": {},
     "output_type": "display_data"
    },
    {
     "name": "stdout",
     "output_type": "stream",
     "text": [
      "\n",
      " name of feature  num_bathrooms \n",
      "\n"
     ]
    },
    {
     "name": "stderr",
     "output_type": "stream",
     "text": [
      "c:\\Users\\mohamed osama\\anaconda3\\Lib\\site-packages\\seaborn\\categorical.py:1794: FutureWarning: use_inf_as_na option is deprecated and will be removed in a future version. Convert inf values to NaN before operating instead.\n",
      "  with pd.option_context('mode.use_inf_as_na', True):\n"
     ]
    },
    {
     "data": {
      "image/png": "[encoded data removed]",
      "text/plain": [
       "<Figure size 640x480 with 1 Axes>"
      ]
     },
     "metadata": {},
     "output_type": "display_data"
    },
    {
     "name": "stdout",
     "output_type": "stream",
     "text": [
      "\n",
      " name of feature  age_of_house \n",
      "\n"
     ]
    },
    {
     "name": "stderr",
     "output_type": "stream",
     "text": [
      "c:\\Users\\mohamed osama\\anaconda3\\Lib\\site-packages\\seaborn\\categorical.py:1794: FutureWarning: use_inf_as_na option is deprecated and will be removed in a future version. Convert inf values to NaN before operating instead.\n",
      "  with pd.option_context('mode.use_inf_as_na', True):\n"
     ]
    },
    {
     "data": {
      "image/png": "[encoded data removed]",
      "text/plain": [
       "<Figure size 640x480 with 1 Axes>"
      ]
     },
     "metadata": {},
     "output_type": "display_data"
    },
    {
     "name": "stdout",
     "output_type": "stream",
     "text": [
      "\n",
      " name of feature  lot_size \n",
      "\n"
     ]
    },
    {
     "name": "stderr",
     "output_type": "stream",
     "text": [
      "c:\\Users\\mohamed osama\\anaconda3\\Lib\\site-packages\\seaborn\\categorical.py:1794: FutureWarning: use_inf_as_na option is deprecated and will be removed in a future version. Convert inf values to NaN before operating instead.\n",
      "  with pd.option_context('mode.use_inf_as_na', True):\n"
     ]
    },
    {
     "data": {
      "image/png": "[encoded data removed]",
      "text/plain": [
       "<Figure size 640x480 with 1 Axes>"
      ]
     },
     "metadata": {},
     "output_type": "display_data"
    },
    {
     "name": "stdout",
     "output_type": "stream",
     "text": [
      "\n",
      " name of feature  garage_size \n",
      "\n"
     ]
    },
    {
     "name": "stderr",
     "output_type": "stream",
     "text": [
      "c:\\Users\\mohamed osama\\anaconda3\\Lib\\site-packages\\seaborn\\categorical.py:1794: FutureWarning: use_inf_as_na option is deprecated and will be removed in a future version. Convert inf values to NaN before operating instead.\n",
      "  with pd.option_context('mode.use_inf_as_na', True):\n"
     ]
    },
    {
     "data": {
      "image/png": "[encoded data removed]",
      "text/plain": [
       "<Figure size 640x480 with 1 Axes>"
      ]
     },
     "metadata": {},
     "output_type": "display_data"
    },
    {
     "name": "stdout",
     "output_type": "stream",
     "text": [
      "\n",
      " name of feature  num_floors \n",
      "\n"
     ]
    },
    {
     "name": "stderr",
     "output_type": "stream",
     "text": [
      "c:\\Users\\mohamed osama\\anaconda3\\Lib\\site-packages\\seaborn\\categorical.py:1794: FutureWarning: use_inf_as_na option is deprecated and will be removed in a future version. Convert inf values to NaN before operating instead.\n",
      "  with pd.option_context('mode.use_inf_as_na', True):\n"
     ]
    },
    {
     "data": {
      "image/png": "[encoded data removed]",
      "text/plain": [
       "<Figure size 640x480 with 1 Axes>"
      ]
     },
     "metadata": {},
     "output_type": "display_data"
    },
    {
     "name": "stdout",
     "output_type": "stream",
     "text": [
      "\n",
      " name of feature  proximity_to_schools \n",
      "\n"
     ]
    },
    {
     "name": "stderr",
     "output_type": "stream",
     "text": [
      "c:\\Users\\mohamed osama\\anaconda3\\Lib\\site-packages\\seaborn\\categorical.py:1794: FutureWarning: use_inf_as_na option is deprecated and will be removed in a future version. Convert inf values to NaN before operating instead.\n",
      "  with pd.option_context('mode.use_inf_as_na', True):\n"
     ]
    },
    {
     "data": {
      "image/png": "[encoded data removed]",
      "text/plain": [
       "<Figure size 640x480 with 1 Axes>"
      ]
     },
     "metadata": {},
     "output_type": "display_data"
    },
    {
     "name": "stdout",
     "output_type": "stream",
     "text": [
      "\n",
      " name of feature  proximity_to_shops \n",
      "\n"
     ]
    },
    {
     "name": "stderr",
     "output_type": "stream",
     "text": [
      "c:\\Users\\mohamed osama\\anaconda3\\Lib\\site-packages\\seaborn\\categorical.py:1794: FutureWarning: use_inf_as_na option is deprecated and will be removed in a future version. Convert inf values to NaN before operating instead.\n",
      "  with pd.option_context('mode.use_inf_as_na', True):\n"
     ]
    },
    {
     "data": {
      "image/png": "[encoded data removed]",
      "text/plain": [
       "<Figure size 640x480 with 1 Axes>"
      ]
     },
     "metadata": {},
     "output_type": "display_data"
    },
    {
     "name": "stdout",
     "output_type": "stream",
     "text": [
      "\n",
      " name of feature  crime_rate \n",
      "\n"
     ]
    },
    {
     "name": "stderr",
     "output_type": "stream",
     "text": [
      "c:\\Users\\mohamed osama\\anaconda3\\Lib\\site-packages\\seaborn\\categorical.py:1794: FutureWarning: use_inf_as_na option is deprecated and will be removed in a future version. Convert inf values to NaN before operating instead.\n",
      "  with pd.option_context('mode.use_inf_as_na', True):\n"
     ]
    },
    {
     "data": {
      "image/png": "[encoded data removed]",
      "text/plain": [
       "<Figure size 640x480 with 1 Axes>"
      ]
     },
     "metadata": {},
     "output_type": "display_data"
    },
    {
     "name": "stdout",
     "output_type": "stream",
     "text": [
      "\n",
      " name of feature  public_transport_access \n",
      "\n"
     ]
    },
    {
     "name": "stderr",
     "output_type": "stream",
     "text": [
      "c:\\Users\\mohamed osama\\anaconda3\\Lib\\site-packages\\seaborn\\categorical.py:1794: FutureWarning: use_inf_as_na option is deprecated and will be removed in a future version. Convert inf values to NaN before operating instead.\n",
      "  with pd.option_context('mode.use_inf_as_na', True):\n"
     ]
    },
    {
     "data": {
      "image/png": "[encoded data removed]",
      "text/plain": [
       "<Figure size 640x480 with 1 Axes>"
      ]
     },
     "metadata": {},
     "output_type": "display_data"
    },
    {
     "name": "stdout",
     "output_type": "stream",
     "text": [
      "\n",
      " name of feature  num_parks_nearby \n",
      "\n"
     ]
    },
    {
     "name": "stderr",
     "output_type": "stream",
     "text": [
      "c:\\Users\\mohamed osama\\anaconda3\\Lib\\site-packages\\seaborn\\categorical.py:1794: FutureWarning: use_inf_as_na option is deprecated and will be removed in a future version. Convert inf values to NaN before operating instead.\n",
      "  with pd.option_context('mode.use_inf_as_na', True):\n"
     ]
    },
    {
     "data": {
      "image/png": "[encoded data removed]",
      "text/plain": [
       "<Figure size 640x480 with 1 Axes>"
      ]
     },
     "metadata": {},
     "output_type": "display_data"
    },
    {
     "name": "stdout",
     "output_type": "stream",
     "text": [
      "\n",
      " name of feature  year_built \n",
      "\n"
     ]
    },
    {
     "name": "stderr",
     "output_type": "stream",
     "text": [
      "c:\\Users\\mohamed osama\\anaconda3\\Lib\\site-packages\\seaborn\\categorical.py:1794: FutureWarning: use_inf_as_na option is deprecated and will be removed in a future version. Convert inf values to NaN before operating instead.\n",
      "  with pd.option_context('mode.use_inf_as_na', True):\n"
     ]
    },
    {
     "data": {
      "image/png": "[encoded data removed]",
      "text/plain": [
       "<Figure size 640x480 with 1 Axes>"
      ]
     },
     "metadata": {},
     "output_type": "display_data"
    },
    {
     "name": "stdout",
     "output_type": "stream",
     "text": [
      "\n",
      " name of feature  renovation_score \n",
      "\n"
     ]
    },
    {
     "name": "stderr",
     "output_type": "stream",
     "text": [
      "c:\\Users\\mohamed osama\\anaconda3\\Lib\\site-packages\\seaborn\\categorical.py:1794: FutureWarning: use_inf_as_na option is deprecated and will be removed in a future version. Convert inf values to NaN before operating instead.\n",
      "  with pd.option_context('mode.use_inf_as_na', True):\n"
     ]
    },
    {
     "data": {
      "image/png": "[encoded data removed]",
      "text/plain": [
       "<Figure size 640x480 with 1 Axes>"
      ]
     },
     "metadata": {},
     "output_type": "display_data"
    },
    {
     "name": "stderr",
     "output_type": "stream",
     "text": [
      "c:\\Users\\mohamed osama\\anaconda3\\Lib\\site-packages\\seaborn\\categorical.py:1794: FutureWarning: use_inf_as_na option is deprecated and will be removed in a future version. Convert inf values to NaN before operating instead.\n",
      "  with pd.option_context('mode.use_inf_as_na', True):\n"
     ]
    },
    {
     "name": "stdout",
     "output_type": "stream",
     "text": [
      "\n",
      " name of feature  num_windows \n",
      "\n"
     ]
    },
    {
     "data": {
      "image/png": "[encoded data removed]",
      "text/plain": [
       "<Figure size 640x480 with 1 Axes>"
      ]
     },
     "metadata": {},
     "output_type": "display_data"
    },
    {
     "name": "stdout",
     "output_type": "stream",
     "text": [
      "\n",
      " name of feature  roof_type \n",
      "\n"
     ]
    },
    {
     "name": "stderr",
     "output_type": "stream",
     "text": [
      "c:\\Users\\mohamed osama\\anaconda3\\Lib\\site-packages\\seaborn\\categorical.py:1794: FutureWarning: use_inf_as_na option is deprecated and will be removed in a future version. Convert inf values to NaN before operating instead.\n",
      "  with pd.option_context('mode.use_inf_as_na', True):\n"
     ]
    },
    {
     "data": {
      "image/png": "[encoded data removed]",
      "text/plain": [
       "<Figure size 640x480 with 1 Axes>"
      ]
     },
     "metadata": {},
     "output_type": "display_data"
    },
    {
     "name": "stdout",
     "output_type": "stream",
     "text": [
      "\n",
      " name of feature  basement_size \n",
      "\n"
     ]
    },
    {
     "name": "stderr",
     "output_type": "stream",
     "text": [
      "c:\\Users\\mohamed osama\\anaconda3\\Lib\\site-packages\\seaborn\\categorical.py:1794: FutureWarning: use_inf_as_na option is deprecated and will be removed in a future version. Convert inf values to NaN before operating instead.\n",
      "  with pd.option_context('mode.use_inf_as_na', True):\n"
     ]
    },
    {
     "data": {
      "image/png": "[encoded data removed]",
      "text/plain": [
       "<Figure size 640x480 with 1 Axes>"
      ]
     },
     "metadata": {},
     "output_type": "display_data"
    },
    {
     "name": "stdout",
     "output_type": "stream",
     "text": [
      "\n",
      " name of feature  num_fireplaces \n",
      "\n"
     ]
    },
    {
     "name": "stderr",
     "output_type": "stream",
     "text": [
      "c:\\Users\\mohamed osama\\anaconda3\\Lib\\site-packages\\seaborn\\categorical.py:1794: FutureWarning: use_inf_as_na option is deprecated and will be removed in a future version. Convert inf values to NaN before operating instead.\n",
      "  with pd.option_context('mode.use_inf_as_na', True):\n"
     ]
    },
    {
     "data": {
      "image/png": "[encoded data removed]",
      "text/plain": [
       "<Figure size 640x480 with 1 Axes>"
      ]
     },
     "metadata": {},
     "output_type": "display_data"
    },
    {
     "name": "stdout",
     "output_type": "stream",
     "text": [
      "\n",
      " name of feature  kitchen_quality \n",
      "\n"
     ]
    },
    {
     "name": "stderr",
     "output_type": "stream",
     "text": [
      "c:\\Users\\mohamed osama\\anaconda3\\Lib\\site-packages\\seaborn\\categorical.py:1794: FutureWarning: use_inf_as_na option is deprecated and will be removed in a future version. Convert inf values to NaN before operating instead.\n",
      "  with pd.option_context('mode.use_inf_as_na', True):\n"
     ]
    },
    {
     "data": {
      "image/png": "[encoded data removed]",
      "text/plain": [
       "<Figure size 640x480 with 1 Axes>"
      ]
     },
     "metadata": {},
     "output_type": "display_data"
    },
    {
     "name": "stdout",
     "output_type": "stream",
     "text": [
      "\n",
      " name of feature  heating_type \n",
      "\n"
     ]
    },
    {
     "name": "stderr",
     "output_type": "stream",
     "text": [
      "c:\\Users\\mohamed osama\\anaconda3\\Lib\\site-packages\\seaborn\\categorical.py:1794: FutureWarning: use_inf_as_na option is deprecated and will be removed in a future version. Convert inf values to NaN before operating instead.\n",
      "  with pd.option_context('mode.use_inf_as_na', True):\n"
     ]
    },
    {
     "data": {
      "image/png": "[encoded data removed]",
      "text/plain": [
       "<Figure size 640x480 with 1 Axes>"
      ]
     },
     "metadata": {},
     "output_type": "display_data"
    },
    {
     "name": "stdout",
     "output_type": "stream",
     "text": [
      "\n",
      " name of feature  target \n",
      "\n"
     ]
    },
    {
     "name": "stderr",
     "output_type": "stream",
     "text": [
      "c:\\Users\\mohamed osama\\anaconda3\\Lib\\site-packages\\seaborn\\categorical.py:1794: FutureWarning: use_inf_as_na option is deprecated and will be removed in a future version. Convert inf values to NaN before operating instead.\n",
      "  with pd.option_context('mode.use_inf_as_na', True):\n"
     ]
    },
    {
     "data": {
      "image/png": "[encoded data removed]",
      "text/plain": [
       "<Figure size 640x480 with 1 Axes>"
      ]
     },
     "metadata": {},
     "output_type": "display_data"
    }
   ],
   "source": [
    "\n",
    "for i in data.columns:\n",
    "    print(\"\\n name of feature \", i,\"\\n\" )\n",
    "    sns.boxenplot(data[i])\n",
    "    plt.show()\n"
   ]
  },
  {
   "cell_type": "markdown",
   "metadata": {},
   "source": [
    "the data don't have missing values or categrical data so we will scale it "
   ]
  },
  {
   "cell_type": "code",
   "execution_count": 58,
   "metadata": {},
   "outputs": [],
   "source": [
    "from sklearn.preprocessing import StandardScaler\n",
    "# before we scale we need to split it \n",
    "from sklearn.model_selection import train_test_split\n",
    "\n",
    "x = data.drop([\"target\"],axis=1)\n",
    "y= data[\"target\"]\n",
    "scaler = StandardScaler()"
   ]
  },
  {
   "cell_type": "code",
   "execution_count": 59,
   "metadata": {},
   "outputs": [],
   "source": [
    "xtrain,xtest,ytrain,ytest = train_test_split(x,y,train_size=0.2)"
   ]
  },
  {
   "cell_type": "code",
   "execution_count": 60,
   "metadata": {},
   "outputs": [],
   "source": [
    "scaled = scaler.fit_transform(xtrain)\n",
    "transformed = scaler.transform(xtest)"
   ]
  },
  {
   "cell_type": "code",
   "execution_count": 61,
   "metadata": {},
   "outputs": [
    {
     "data": {
      "text/plain": [
       "array([[ 1.67466955, -0.85646708, -0.44824227, ..., -0.41643187,\n",
       "         1.11059155, -0.84298043],\n",
       "       [-1.71015176, -1.43584612,  0.44600665, ...,  0.45525804,\n",
       "        -0.30702205, -0.94401127],\n",
       "       [-0.09997904,  0.30229102,  1.34025557, ..., -1.24934201,\n",
       "        -1.10612692, -1.12889427],\n",
       "       ...,\n",
       "       [-1.34277106, -1.43584612, -0.44824227, ..., -1.71092519,\n",
       "        -1.22303523, -1.41130499],\n",
       "       [ 1.01061741, -0.27708803, -0.44824227, ..., -0.67102416,\n",
       "        -0.2940948 , -0.32667077],\n",
       "       [ 0.05527389, -0.27708803,  0.44600665, ...,  0.59818777,\n",
       "         0.13844904,  0.47519532]])"
      ]
     },
     "execution_count": 61,
     "metadata": {},
     "output_type": "execute_result"
    }
   ],
   "source": [
    "scaled"
   ]
  },
  {
   "cell_type": "code",
   "execution_count": 62,
   "metadata": {},
   "outputs": [
    {
     "data": {
      "text/plain": [
       "array([[ 0.71855744, -1.43584612,  1.34025557, ..., -0.50863822,\n",
       "        -1.13925605,  0.41720569],\n",
       "       [ 0.24203855,  0.88167006, -0.44824227, ...,  0.62133155,\n",
       "        -1.2365182 , -0.4589974 ],\n",
       "       [-1.51570131,  1.46104911,  0.44600665, ..., -0.52759184,\n",
       "         1.76724187, -0.27498737],\n",
       "       ...,\n",
       "       [-0.4396909 ,  0.30229102,  1.34025557, ..., -0.82430564,\n",
       "        -0.3414128 , -1.41483049],\n",
       "       [ 1.64315781, -0.27708803,  0.44600665, ...,  1.35067325,\n",
       "         1.06985165,  0.20749868],\n",
       "       [ 0.14058614, -0.27708803, -1.34249119, ..., -1.14376839,\n",
       "         0.47693138,  0.77322469]])"
      ]
     },
     "execution_count": 62,
     "metadata": {},
     "output_type": "execute_result"
    }
   ],
   "source": [
    "transformed"
   ]
  },
  {
   "cell_type": "code",
   "execution_count": 63,
   "metadata": {},
   "outputs": [
    {
     "data": {
      "text/html": [
       "<div>\n",
       "<style scoped>\n",
       "    .dataframe tbody tr th:only-of-type {\n",
       "        vertical-align: middle;\n",
       "    }\n",
       "\n",
       "    .dataframe tbody tr th {\n",
       "        vertical-align: top;\n",
       "    }\n",
       "\n",
       "    .dataframe thead th {\n",
       "        text-align: right;\n",
       "    }\n",
       "</style>\n",
       "<table border=\"1\" class=\"dataframe\">\n",
       "  <thead>\n",
       "    <tr style=\"text-align: right;\">\n",
       "      <th></th>\n",
       "      <th>square_footage</th>\n",
       "      <th>num_bedrooms</th>\n",
       "      <th>num_bathrooms</th>\n",
       "      <th>age_of_house</th>\n",
       "      <th>lot_size</th>\n",
       "      <th>garage_size</th>\n",
       "      <th>num_floors</th>\n",
       "      <th>proximity_to_schools</th>\n",
       "      <th>proximity_to_shops</th>\n",
       "      <th>crime_rate</th>\n",
       "      <th>...</th>\n",
       "      <th>num_parks_nearby</th>\n",
       "      <th>year_built</th>\n",
       "      <th>renovation_score</th>\n",
       "      <th>num_windows</th>\n",
       "      <th>roof_type</th>\n",
       "      <th>basement_size</th>\n",
       "      <th>num_fireplaces</th>\n",
       "      <th>kitchen_quality</th>\n",
       "      <th>heating_type</th>\n",
       "      <th>target</th>\n",
       "    </tr>\n",
       "  </thead>\n",
       "  <tbody>\n",
       "    <tr>\n",
       "      <th>0</th>\n",
       "      <td>2451</td>\n",
       "      <td>4</td>\n",
       "      <td>3</td>\n",
       "      <td>56</td>\n",
       "      <td>13196</td>\n",
       "      <td>2</td>\n",
       "      <td>0.244333</td>\n",
       "      <td>0.843215</td>\n",
       "      <td>0.098098</td>\n",
       "      <td>-0.546847</td>\n",
       "      <td>...</td>\n",
       "      <td>0.240875</td>\n",
       "      <td>-0.795930</td>\n",
       "      <td>-0.649765</td>\n",
       "      <td>0.887181</td>\n",
       "      <td>0.848465</td>\n",
       "      <td>0.128567</td>\n",
       "      <td>1.485817</td>\n",
       "      <td>-0.742883</td>\n",
       "      <td>1.154029</td>\n",
       "      <td>-2.455798</td>\n",
       "    </tr>\n",
       "    <tr>\n",
       "      <th>1</th>\n",
       "      <td>4928</td>\n",
       "      <td>5</td>\n",
       "      <td>2</td>\n",
       "      <td>63</td>\n",
       "      <td>18569</td>\n",
       "      <td>0</td>\n",
       "      <td>0.454673</td>\n",
       "      <td>-1.760636</td>\n",
       "      <td>-0.285096</td>\n",
       "      <td>0.079694</td>\n",
       "      <td>...</td>\n",
       "      <td>-0.472501</td>\n",
       "      <td>0.493254</td>\n",
       "      <td>-1.284945</td>\n",
       "      <td>-0.028902</td>\n",
       "      <td>-2.159269</td>\n",
       "      <td>-1.874056</td>\n",
       "      <td>2.196332</td>\n",
       "      <td>-0.345137</td>\n",
       "      <td>-0.499008</td>\n",
       "      <td>13.052119</td>\n",
       "    </tr>\n",
       "    <tr>\n",
       "      <th>2</th>\n",
       "      <td>2389</td>\n",
       "      <td>1</td>\n",
       "      <td>4</td>\n",
       "      <td>9</td>\n",
       "      <td>14818</td>\n",
       "      <td>2</td>\n",
       "      <td>-1.184575</td>\n",
       "      <td>-1.387315</td>\n",
       "      <td>-0.091265</td>\n",
       "      <td>-0.328132</td>\n",
       "      <td>...</td>\n",
       "      <td>0.909184</td>\n",
       "      <td>-0.369620</td>\n",
       "      <td>1.540308</td>\n",
       "      <td>-2.174386</td>\n",
       "      <td>-0.322276</td>\n",
       "      <td>-0.623095</td>\n",
       "      <td>0.263032</td>\n",
       "      <td>-0.891859</td>\n",
       "      <td>-0.510269</td>\n",
       "      <td>27.620586</td>\n",
       "    </tr>\n",
       "    <tr>\n",
       "      <th>3</th>\n",
       "      <td>3644</td>\n",
       "      <td>5</td>\n",
       "      <td>4</td>\n",
       "      <td>59</td>\n",
       "      <td>15015</td>\n",
       "      <td>1</td>\n",
       "      <td>-0.659495</td>\n",
       "      <td>-0.262840</td>\n",
       "      <td>1.178087</td>\n",
       "      <td>0.700210</td>\n",
       "      <td>...</td>\n",
       "      <td>-1.124166</td>\n",
       "      <td>-1.156127</td>\n",
       "      <td>0.700972</td>\n",
       "      <td>-1.108765</td>\n",
       "      <td>-1.091047</td>\n",
       "      <td>0.367360</td>\n",
       "      <td>1.602844</td>\n",
       "      <td>1.073340</td>\n",
       "      <td>-2.207548</td>\n",
       "      <td>32.551291</td>\n",
       "    </tr>\n",
       "    <tr>\n",
       "      <th>4</th>\n",
       "      <td>2576</td>\n",
       "      <td>3</td>\n",
       "      <td>1</td>\n",
       "      <td>51</td>\n",
       "      <td>19964</td>\n",
       "      <td>0</td>\n",
       "      <td>-0.163580</td>\n",
       "      <td>-0.785582</td>\n",
       "      <td>0.594962</td>\n",
       "      <td>0.854973</td>\n",
       "      <td>...</td>\n",
       "      <td>1.651229</td>\n",
       "      <td>-1.041363</td>\n",
       "      <td>2.771268</td>\n",
       "      <td>-1.408570</td>\n",
       "      <td>0.884184</td>\n",
       "      <td>-0.156176</td>\n",
       "      <td>1.281519</td>\n",
       "      <td>1.825647</td>\n",
       "      <td>-0.886458</td>\n",
       "      <td>56.145996</td>\n",
       "    </tr>\n",
       "    <tr>\n",
       "      <th>...</th>\n",
       "      <td>...</td>\n",
       "      <td>...</td>\n",
       "      <td>...</td>\n",
       "      <td>...</td>\n",
       "      <td>...</td>\n",
       "      <td>...</td>\n",
       "      <td>...</td>\n",
       "      <td>...</td>\n",
       "      <td>...</td>\n",
       "      <td>...</td>\n",
       "      <td>...</td>\n",
       "      <td>...</td>\n",
       "      <td>...</td>\n",
       "      <td>...</td>\n",
       "      <td>...</td>\n",
       "      <td>...</td>\n",
       "      <td>...</td>\n",
       "      <td>...</td>\n",
       "      <td>...</td>\n",
       "      <td>...</td>\n",
       "      <td>...</td>\n",
       "    </tr>\n",
       "    <tr>\n",
       "      <th>19995</th>\n",
       "      <td>678</td>\n",
       "      <td>5</td>\n",
       "      <td>2</td>\n",
       "      <td>6</td>\n",
       "      <td>6936</td>\n",
       "      <td>2</td>\n",
       "      <td>0.777769</td>\n",
       "      <td>0.078542</td>\n",
       "      <td>-0.356311</td>\n",
       "      <td>-0.398955</td>\n",
       "      <td>...</td>\n",
       "      <td>-0.506210</td>\n",
       "      <td>-0.747032</td>\n",
       "      <td>-0.336869</td>\n",
       "      <td>0.904493</td>\n",
       "      <td>-0.087552</td>\n",
       "      <td>-0.374312</td>\n",
       "      <td>-0.981091</td>\n",
       "      <td>-0.295182</td>\n",
       "      <td>0.883601</td>\n",
       "      <td>-163.908175</td>\n",
       "    </tr>\n",
       "    <tr>\n",
       "      <th>19996</th>\n",
       "      <td>3611</td>\n",
       "      <td>5</td>\n",
       "      <td>1</td>\n",
       "      <td>52</td>\n",
       "      <td>6185</td>\n",
       "      <td>0</td>\n",
       "      <td>0.203811</td>\n",
       "      <td>-1.329880</td>\n",
       "      <td>0.290043</td>\n",
       "      <td>-1.316666</td>\n",
       "      <td>...</td>\n",
       "      <td>0.897976</td>\n",
       "      <td>-0.420326</td>\n",
       "      <td>-0.108279</td>\n",
       "      <td>-0.011605</td>\n",
       "      <td>0.028023</td>\n",
       "      <td>2.218259</td>\n",
       "      <td>1.338039</td>\n",
       "      <td>0.206137</td>\n",
       "      <td>1.755493</td>\n",
       "      <td>186.163895</td>\n",
       "    </tr>\n",
       "    <tr>\n",
       "      <th>19997</th>\n",
       "      <td>3183</td>\n",
       "      <td>4</td>\n",
       "      <td>1</td>\n",
       "      <td>70</td>\n",
       "      <td>15003</td>\n",
       "      <td>1</td>\n",
       "      <td>1.026136</td>\n",
       "      <td>-0.897361</td>\n",
       "      <td>-1.536068</td>\n",
       "      <td>0.632421</td>\n",
       "      <td>...</td>\n",
       "      <td>1.185792</td>\n",
       "      <td>-0.557899</td>\n",
       "      <td>-0.632084</td>\n",
       "      <td>-0.020402</td>\n",
       "      <td>-0.781487</td>\n",
       "      <td>0.070400</td>\n",
       "      <td>-0.276101</td>\n",
       "      <td>1.005627</td>\n",
       "      <td>-0.678395</td>\n",
       "      <td>65.743242</td>\n",
       "    </tr>\n",
       "    <tr>\n",
       "      <th>19998</th>\n",
       "      <td>1890</td>\n",
       "      <td>3</td>\n",
       "      <td>1</td>\n",
       "      <td>25</td>\n",
       "      <td>5650</td>\n",
       "      <td>1</td>\n",
       "      <td>1.385300</td>\n",
       "      <td>-0.369737</td>\n",
       "      <td>-0.053254</td>\n",
       "      <td>0.099442</td>\n",
       "      <td>...</td>\n",
       "      <td>-1.867319</td>\n",
       "      <td>0.446476</td>\n",
       "      <td>-1.233940</td>\n",
       "      <td>-0.699977</td>\n",
       "      <td>0.853863</td>\n",
       "      <td>-0.388240</td>\n",
       "      <td>-0.404607</td>\n",
       "      <td>0.978464</td>\n",
       "      <td>-0.451392</td>\n",
       "      <td>-174.160925</td>\n",
       "    </tr>\n",
       "    <tr>\n",
       "      <th>19999</th>\n",
       "      <td>3419</td>\n",
       "      <td>4</td>\n",
       "      <td>4</td>\n",
       "      <td>66</td>\n",
       "      <td>8927</td>\n",
       "      <td>1</td>\n",
       "      <td>0.504790</td>\n",
       "      <td>0.358759</td>\n",
       "      <td>0.511589</td>\n",
       "      <td>0.707380</td>\n",
       "      <td>...</td>\n",
       "      <td>0.276733</td>\n",
       "      <td>0.137897</td>\n",
       "      <td>0.780647</td>\n",
       "      <td>1.626070</td>\n",
       "      <td>0.944372</td>\n",
       "      <td>-0.132606</td>\n",
       "      <td>0.708853</td>\n",
       "      <td>-0.450319</td>\n",
       "      <td>-0.967817</td>\n",
       "      <td>279.928941</td>\n",
       "    </tr>\n",
       "  </tbody>\n",
       "</table>\n",
       "<p>20000 rows × 21 columns</p>\n",
       "</div>"
      ],
      "text/plain": [
       "       square_footage  num_bedrooms  num_bathrooms  age_of_house  lot_size  \\\n",
       "0                2451             4              3            56     13196   \n",
       "1                4928             5              2            63     18569   \n",
       "2                2389             1              4             9     14818   \n",
       "3                3644             5              4            59     15015   \n",
       "4                2576             3              1            51     19964   \n",
       "...               ...           ...            ...           ...       ...   \n",
       "19995             678             5              2             6      6936   \n",
       "19996            3611             5              1            52      6185   \n",
       "19997            3183             4              1            70     15003   \n",
       "19998            1890             3              1            25      5650   \n",
       "19999            3419             4              4            66      8927   \n",
       "\n",
       "       garage_size  num_floors  proximity_to_schools  proximity_to_shops  \\\n",
       "0                2    0.244333              0.843215            0.098098   \n",
       "1                0    0.454673             -1.760636           -0.285096   \n",
       "2                2   -1.184575             -1.387315           -0.091265   \n",
       "3                1   -0.659495             -0.262840            1.178087   \n",
       "4                0   -0.163580             -0.785582            0.594962   \n",
       "...            ...         ...                   ...                 ...   \n",
       "19995            2    0.777769              0.078542           -0.356311   \n",
       "19996            0    0.203811             -1.329880            0.290043   \n",
       "19997            1    1.026136             -0.897361           -1.536068   \n",
       "19998            1    1.385300             -0.369737           -0.053254   \n",
       "19999            1    0.504790              0.358759            0.511589   \n",
       "\n",
       "       crime_rate  ...  num_parks_nearby  year_built  renovation_score  \\\n",
       "0       -0.546847  ...          0.240875   -0.795930         -0.649765   \n",
       "1        0.079694  ...         -0.472501    0.493254         -1.284945   \n",
       "2       -0.328132  ...          0.909184   -0.369620          1.540308   \n",
       "3        0.700210  ...         -1.124166   -1.156127          0.700972   \n",
       "4        0.854973  ...          1.651229   -1.041363          2.771268   \n",
       "...           ...  ...               ...         ...               ...   \n",
       "19995   -0.398955  ...         -0.506210   -0.747032         -0.336869   \n",
       "19996   -1.316666  ...          0.897976   -0.420326         -0.108279   \n",
       "19997    0.632421  ...          1.185792   -0.557899         -0.632084   \n",
       "19998    0.099442  ...         -1.867319    0.446476         -1.233940   \n",
       "19999    0.707380  ...          0.276733    0.137897          0.780647   \n",
       "\n",
       "       num_windows  roof_type  basement_size  num_fireplaces  kitchen_quality  \\\n",
       "0         0.887181   0.848465       0.128567        1.485817        -0.742883   \n",
       "1        -0.028902  -2.159269      -1.874056        2.196332        -0.345137   \n",
       "2        -2.174386  -0.322276      -0.623095        0.263032        -0.891859   \n",
       "3        -1.108765  -1.091047       0.367360        1.602844         1.073340   \n",
       "4        -1.408570   0.884184      -0.156176        1.281519         1.825647   \n",
       "...            ...        ...            ...             ...              ...   \n",
       "19995     0.904493  -0.087552      -0.374312       -0.981091        -0.295182   \n",
       "19996    -0.011605   0.028023       2.218259        1.338039         0.206137   \n",
       "19997    -0.020402  -0.781487       0.070400       -0.276101         1.005627   \n",
       "19998    -0.699977   0.853863      -0.388240       -0.404607         0.978464   \n",
       "19999     1.626070   0.944372      -0.132606        0.708853        -0.450319   \n",
       "\n",
       "       heating_type      target  \n",
       "0          1.154029   -2.455798  \n",
       "1         -0.499008   13.052119  \n",
       "2         -0.510269   27.620586  \n",
       "3         -2.207548   32.551291  \n",
       "4         -0.886458   56.145996  \n",
       "...             ...         ...  \n",
       "19995      0.883601 -163.908175  \n",
       "19996      1.755493  186.163895  \n",
       "19997     -0.678395   65.743242  \n",
       "19998     -0.451392 -174.160925  \n",
       "19999     -0.967817  279.928941  \n",
       "\n",
       "[20000 rows x 21 columns]"
      ]
     },
     "execution_count": 63,
     "metadata": {},
     "output_type": "execute_result"
    }
   ],
   "source": [
    "data "
   ]
  },
  {
   "cell_type": "markdown",
   "metadata": {},
   "source": [
    "## LinearRegression"
   ]
  },
  {
   "cell_type": "code",
   "execution_count": 64,
   "metadata": {},
   "outputs": [],
   "source": [
    "from sklearn.linear_model import LinearRegression"
   ]
  },
  {
   "cell_type": "code",
   "execution_count": 65,
   "metadata": {},
   "outputs": [],
   "source": [
    "model=LinearRegression()"
   ]
  },
  {
   "cell_type": "code",
   "execution_count": 66,
   "metadata": {},
   "outputs": [
    {
     "data": {
      "text/html": [
       "<style>#sk-container-id-9 {color: black;background-color: white;}#sk-container-id-9 pre{padding: 0;}#sk-container-id-9 div.sk-toggleable {background-color: white;}#sk-container-id-9 label.sk-toggleable__label {cursor: pointer;display: block;width: 100%;margin-bottom: 0;padding: 0.3em;box-sizing: border-box;text-align: center;}#sk-container-id-9 label.sk-toggleable__label-arrow:before {content: \"▸\";float: left;margin-right: 0.25em;color: #696969;}#sk-container-id-9 label.sk-toggleable__label-arrow:hover:before {color: black;}#sk-container-id-9 div.sk-estimator:hover label.sk-toggleable__label-arrow:before {color: black;}#sk-container-id-9 div.sk-toggleable__content {max-height: 0;max-width: 0;overflow: hidden;text-align: left;background-color: #f0f8ff;}#sk-container-id-9 div.sk-toggleable__content pre {margin: 0.2em;color: black;border-radius: 0.25em;background-color: #f0f8ff;}#sk-container-id-9 input.sk-toggleable__control:checked~div.sk-toggleable__content {max-height: 200px;max-width: 100%;overflow: auto;}#sk-container-id-9 input.sk-toggleable__control:checked~label.sk-toggleable__label-arrow:before {content: \"▾\";}#sk-container-id-9 div.sk-estimator input.sk-toggleable__control:checked~label.sk-toggleable__label {background-color: #d4ebff;}#sk-container-id-9 div.sk-label input.sk-toggleable__control:checked~label.sk-toggleable__label {background-color: #d4ebff;}#sk-container-id-9 input.sk-hidden--visually {border: 0;clip: rect(1px 1px 1px 1px);clip: rect(1px, 1px, 1px, 1px);height: 1px;margin: -1px;overflow: hidden;padding: 0;position: absolute;width: 1px;}#sk-container-id-9 div.sk-estimator {font-family: monospace;background-color: #f0f8ff;border: 1px dotted black;border-radius: 0.25em;box-sizing: border-box;margin-bottom: 0.5em;}#sk-container-id-9 div.sk-estimator:hover {background-color: #d4ebff;}#sk-container-id-9 div.sk-parallel-item::after {content: \"\";width: 100%;border-bottom: 1px solid gray;flex-grow: 1;}#sk-container-id-9 div.sk-label:hover label.sk-toggleable__label {background-color: #d4ebff;}#sk-container-id-9 div.sk-serial::before {content: \"\";position: absolute;border-left: 1px solid gray;box-sizing: border-box;top: 0;bottom: 0;left: 50%;z-index: 0;}#sk-container-id-9 div.sk-serial {display: flex;flex-direction: column;align-items: center;background-color: white;padding-right: 0.2em;padding-left: 0.2em;position: relative;}#sk-container-id-9 div.sk-item {position: relative;z-index: 1;}#sk-container-id-9 div.sk-parallel {display: flex;align-items: stretch;justify-content: center;background-color: white;position: relative;}#sk-container-id-9 div.sk-item::before, #sk-container-id-9 div.sk-parallel-item::before {content: \"\";position: absolute;border-left: 1px solid gray;box-sizing: border-box;top: 0;bottom: 0;left: 50%;z-index: -1;}#sk-container-id-9 div.sk-parallel-item {display: flex;flex-direction: column;z-index: 1;position: relative;background-color: white;}#sk-container-id-9 div.sk-parallel-item:first-child::after {align-self: flex-end;width: 50%;}#sk-container-id-9 div.sk-parallel-item:last-child::after {align-self: flex-start;width: 50%;}#sk-container-id-9 div.sk-parallel-item:only-child::after {width: 0;}#sk-container-id-9 div.sk-dashed-wrapped {border: 1px dashed gray;margin: 0 0.4em 0.5em 0.4em;box-sizing: border-box;padding-bottom: 0.4em;background-color: white;}#sk-container-id-9 div.sk-label label {font-family: monospace;font-weight: bold;display: inline-block;line-height: 1.2em;}#sk-container-id-9 div.sk-label-container {text-align: center;}#sk-container-id-9 div.sk-container {/* jupyter's `normalize.less` sets `[hidden] { display: none; }` but bootstrap.min.css set `[hidden] { display: none !important; }` so we also need the `!important` here to be able to override the default hidden behavior on the sphinx rendered scikit-learn.org. See: https://github.com/scikit-learn/scikit-learn/issues/21755 */display: inline-block !important;position: relative;}#sk-container-id-9 div.sk-text-repr-fallback {display: none;}</style><div id=\"sk-container-id-9\" class=\"sk-top-container\"><div class=\"sk-text-repr-fallback\"><pre>LinearRegression()</pre><b>In a Jupyter environment, please rerun this cell to show the HTML representation or trust the notebook. <br />On GitHub, the HTML representation is unable to render, please try loading this page with nbviewer.org.</b></div><div class=\"sk-container\" hidden><div class=\"sk-item\"><div class=\"sk-estimator sk-toggleable\"><input class=\"sk-toggleable__control sk-hidden--visually\" id=\"sk-estimator-id-9\" type=\"checkbox\" checked><label for=\"sk-estimator-id-9\" class=\"sk-toggleable__label sk-toggleable__label-arrow\">LinearRegression</label><div class=\"sk-toggleable__content\"><pre>LinearRegression()</pre></div></div></div></div></div>"
      ],
      "text/plain": [
       "LinearRegression()"
      ]
     },
     "execution_count": 66,
     "metadata": {},
     "output_type": "execute_result"
    }
   ],
   "source": [
    "model.fit(scaled,ytrain)"
   ]
  },
  {
   "cell_type": "code",
   "execution_count": 67,
   "metadata": {},
   "outputs": [],
   "source": [
    "ypred=model.predict(transformed)"
   ]
  },
  {
   "cell_type": "code",
   "execution_count": 68,
   "metadata": {},
   "outputs": [
    {
     "data": {
      "text/plain": [
       "array([ -89.21561801,  -92.50762445,   96.04594365, ..., -137.35099886,\n",
       "         52.32868158,   -9.72420804])"
      ]
     },
     "execution_count": 68,
     "metadata": {},
     "output_type": "execute_result"
    }
   ],
   "source": [
    "ypred"
   ]
  },
  {
   "cell_type": "code",
   "execution_count": 69,
   "metadata": {},
   "outputs": [
    {
     "data": {
      "text/plain": [
       "5715      22.782195\n",
       "18344   -187.152219\n",
       "1437     123.744927\n",
       "14252     75.288325\n",
       "8307    -325.363833\n",
       "            ...    \n",
       "10566    593.534746\n",
       "9594     310.278667\n",
       "5669    -269.122679\n",
       "18796   -196.463609\n",
       "18256    -31.720402\n",
       "Name: target, Length: 16000, dtype: float64"
      ]
     },
     "execution_count": 69,
     "metadata": {},
     "output_type": "execute_result"
    }
   ],
   "source": [
    "ytest"
   ]
  },
  {
   "cell_type": "code",
   "execution_count": 70,
   "metadata": {},
   "outputs": [],
   "source": [
    "from sklearn.metrics import mean_absolute_error,mean_squared_error"
   ]
  },
  {
   "cell_type": "code",
   "execution_count": 71,
   "metadata": {},
   "outputs": [
    {
     "name": "stdout",
     "output_type": "stream",
     "text": [
      "Absloute error 104.00724650380167\n",
      "Squared error 17045.49187132664\n",
      "root mean Squared error 130.5583849139022\n"
     ]
    }
   ],
   "source": [
    "print(\"Absloute error\",mean_absolute_error(ytest,ypred))\n",
    "print(\"Squared error\",mean_squared_error(ytest,ypred))\n",
    "print(\"root mean Squared error\",np.sqrt(mean_squared_error(ytest,ypred)))"
   ]
  },
  {
   "cell_type": "markdown",
   "metadata": {},
   "source": [
    "## SVM"
   ]
  },
  {
   "cell_type": "code",
   "execution_count": 82,
   "metadata": {},
   "outputs": [],
   "source": [
    "from sklearn.svm import SVR"
   ]
  },
  {
   "cell_type": "code",
   "execution_count": 91,
   "metadata": {},
   "outputs": [
    {
     "data": {
      "text/html": [
       "<style>#sk-container-id-15 {color: black;background-color: white;}#sk-container-id-15 pre{padding: 0;}#sk-container-id-15 div.sk-toggleable {background-color: white;}#sk-container-id-15 label.sk-toggleable__label {cursor: pointer;display: block;width: 100%;margin-bottom: 0;padding: 0.3em;box-sizing: border-box;text-align: center;}#sk-container-id-15 label.sk-toggleable__label-arrow:before {content: \"▸\";float: left;margin-right: 0.25em;color: #696969;}#sk-container-id-15 label.sk-toggleable__label-arrow:hover:before {color: black;}#sk-container-id-15 div.sk-estimator:hover label.sk-toggleable__label-arrow:before {color: black;}#sk-container-id-15 div.sk-toggleable__content {max-height: 0;max-width: 0;overflow: hidden;text-align: left;background-color: #f0f8ff;}#sk-container-id-15 div.sk-toggleable__content pre {margin: 0.2em;color: black;border-radius: 0.25em;background-color: #f0f8ff;}#sk-container-id-15 input.sk-toggleable__control:checked~div.sk-toggleable__content {max-height: 200px;max-width: 100%;overflow: auto;}#sk-container-id-15 input.sk-toggleable__control:checked~label.sk-toggleable__label-arrow:before {content: \"▾\";}#sk-container-id-15 div.sk-estimator input.sk-toggleable__control:checked~label.sk-toggleable__label {background-color: #d4ebff;}#sk-container-id-15 div.sk-label input.sk-toggleable__control:checked~label.sk-toggleable__label {background-color: #d4ebff;}#sk-container-id-15 input.sk-hidden--visually {border: 0;clip: rect(1px 1px 1px 1px);clip: rect(1px, 1px, 1px, 1px);height: 1px;margin: -1px;overflow: hidden;padding: 0;position: absolute;width: 1px;}#sk-container-id-15 div.sk-estimator {font-family: monospace;background-color: #f0f8ff;border: 1px dotted black;border-radius: 0.25em;box-sizing: border-box;margin-bottom: 0.5em;}#sk-container-id-15 div.sk-estimator:hover {background-color: #d4ebff;}#sk-container-id-15 div.sk-parallel-item::after {content: \"\";width: 100%;border-bottom: 1px solid gray;flex-grow: 1;}#sk-container-id-15 div.sk-label:hover label.sk-toggleable__label {background-color: #d4ebff;}#sk-container-id-15 div.sk-serial::before {content: \"\";position: absolute;border-left: 1px solid gray;box-sizing: border-box;top: 0;bottom: 0;left: 50%;z-index: 0;}#sk-container-id-15 div.sk-serial {display: flex;flex-direction: column;align-items: center;background-color: white;padding-right: 0.2em;padding-left: 0.2em;position: relative;}#sk-container-id-15 div.sk-item {position: relative;z-index: 1;}#sk-container-id-15 div.sk-parallel {display: flex;align-items: stretch;justify-content: center;background-color: white;position: relative;}#sk-container-id-15 div.sk-item::before, #sk-container-id-15 div.sk-parallel-item::before {content: \"\";position: absolute;border-left: 1px solid gray;box-sizing: border-box;top: 0;bottom: 0;left: 50%;z-index: -1;}#sk-container-id-15 div.sk-parallel-item {display: flex;flex-direction: column;z-index: 1;position: relative;background-color: white;}#sk-container-id-15 div.sk-parallel-item:first-child::after {align-self: flex-end;width: 50%;}#sk-container-id-15 div.sk-parallel-item:last-child::after {align-self: flex-start;width: 50%;}#sk-container-id-15 div.sk-parallel-item:only-child::after {width: 0;}#sk-container-id-15 div.sk-dashed-wrapped {border: 1px dashed gray;margin: 0 0.4em 0.5em 0.4em;box-sizing: border-box;padding-bottom: 0.4em;background-color: white;}#sk-container-id-15 div.sk-label label {font-family: monospace;font-weight: bold;display: inline-block;line-height: 1.2em;}#sk-container-id-15 div.sk-label-container {text-align: center;}#sk-container-id-15 div.sk-container {/* jupyter's `normalize.less` sets `[hidden] { display: none; }` but bootstrap.min.css set `[hidden] { display: none !important; }` so we also need the `!important` here to be able to override the default hidden behavior on the sphinx rendered scikit-learn.org. See: https://github.com/scikit-learn/scikit-learn/issues/21755 */display: inline-block !important;position: relative;}#sk-container-id-15 div.sk-text-repr-fallback {display: none;}</style><div id=\"sk-container-id-15\" class=\"sk-top-container\"><div class=\"sk-text-repr-fallback\"><pre>SVR(C=3, gamma=4)</pre><b>In a Jupyter environment, please rerun this cell to show the HTML representation or trust the notebook. <br />On GitHub, the HTML representation is unable to render, please try loading this page with nbviewer.org.</b></div><div class=\"sk-container\" hidden><div class=\"sk-item\"><div class=\"sk-estimator sk-toggleable\"><input class=\"sk-toggleable__control sk-hidden--visually\" id=\"sk-estimator-id-15\" type=\"checkbox\" checked><label for=\"sk-estimator-id-15\" class=\"sk-toggleable__label sk-toggleable__label-arrow\">SVR</label><div class=\"sk-toggleable__content\"><pre>SVR(C=3, gamma=4)</pre></div></div></div></div></div>"
      ],
      "text/plain": [
       "SVR(C=3, gamma=4)"
      ]
     },
     "execution_count": 91,
     "metadata": {},
     "output_type": "execute_result"
    }
   ],
   "source": [
    "model=SVR(C=3 , gamma= 4 , kernel= \"rbf\")\n",
    "model.fit(X=scaled,y=ytrain)"
   ]
  },
  {
   "cell_type": "code",
   "execution_count": 92,
   "metadata": {},
   "outputs": [],
   "source": [
    "ypredict = model.predict(X=transformed)"
   ]
  },
  {
   "cell_type": "code",
   "execution_count": 93,
   "metadata": {},
   "outputs": [
    {
     "data": {
      "text/plain": [
       "array([-4.72588824, -4.72588824, -4.72588824, ..., -4.72588824,\n",
       "       -4.72588824, -4.72588824])"
      ]
     },
     "execution_count": 93,
     "metadata": {},
     "output_type": "execute_result"
    }
   ],
   "source": [
    "ypredict"
   ]
  },
  {
   "cell_type": "code",
   "execution_count": 96,
   "metadata": {},
   "outputs": [
    {
     "name": "stdout",
     "output_type": "stream",
     "text": [
      "Absloute error 162.19306916131163\n",
      "Squared error 41506.676242565365\n",
      "root mean Squared error 203.73187340856944\n"
     ]
    }
   ],
   "source": [
    "print(\"Absloute error\",mean_absolute_error(ytest,ypred))\n",
    "print(\"Squared error\",mean_squared_error(ytest,ypred))\n",
    "print(\"root mean Squared error\",np.sqrt(mean_squared_error(ytest,ypred)))"
   ]
  },
  {
   "cell_type": "markdown",
   "metadata": {},
   "source": [
    "## DecisionTreeRegressor"
   ]
  },
  {
   "cell_type": "code",
   "execution_count": 97,
   "metadata": {},
   "outputs": [],
   "source": [
    "from sklearn.tree import DecisionTreeRegressor\n",
    "\n",
    "model = DecisionTreeRegressor()\n"
   ]
  },
  {
   "cell_type": "code",
   "execution_count": 98,
   "metadata": {},
   "outputs": [
    {
     "data": {
      "text/html": [
       "<style>#sk-container-id-16 {color: black;background-color: white;}#sk-container-id-16 pre{padding: 0;}#sk-container-id-16 div.sk-toggleable {background-color: white;}#sk-container-id-16 label.sk-toggleable__label {cursor: pointer;display: block;width: 100%;margin-bottom: 0;padding: 0.3em;box-sizing: border-box;text-align: center;}#sk-container-id-16 label.sk-toggleable__label-arrow:before {content: \"▸\";float: left;margin-right: 0.25em;color: #696969;}#sk-container-id-16 label.sk-toggleable__label-arrow:hover:before {color: black;}#sk-container-id-16 div.sk-estimator:hover label.sk-toggleable__label-arrow:before {color: black;}#sk-container-id-16 div.sk-toggleable__content {max-height: 0;max-width: 0;overflow: hidden;text-align: left;background-color: #f0f8ff;}#sk-container-id-16 div.sk-toggleable__content pre {margin: 0.2em;color: black;border-radius: 0.25em;background-color: #f0f8ff;}#sk-container-id-16 input.sk-toggleable__control:checked~div.sk-toggleable__content {max-height: 200px;max-width: 100%;overflow: auto;}#sk-container-id-16 input.sk-toggleable__control:checked~label.sk-toggleable__label-arrow:before {content: \"▾\";}#sk-container-id-16 div.sk-estimator input.sk-toggleable__control:checked~label.sk-toggleable__label {background-color: #d4ebff;}#sk-container-id-16 div.sk-label input.sk-toggleable__control:checked~label.sk-toggleable__label {background-color: #d4ebff;}#sk-container-id-16 input.sk-hidden--visually {border: 0;clip: rect(1px 1px 1px 1px);clip: rect(1px, 1px, 1px, 1px);height: 1px;margin: -1px;overflow: hidden;padding: 0;position: absolute;width: 1px;}#sk-container-id-16 div.sk-estimator {font-family: monospace;background-color: #f0f8ff;border: 1px dotted black;border-radius: 0.25em;box-sizing: border-box;margin-bottom: 0.5em;}#sk-container-id-16 div.sk-estimator:hover {background-color: #d4ebff;}#sk-container-id-16 div.sk-parallel-item::after {content: \"\";width: 100%;border-bottom: 1px solid gray;flex-grow: 1;}#sk-container-id-16 div.sk-label:hover label.sk-toggleable__label {background-color: #d4ebff;}#sk-container-id-16 div.sk-serial::before {content: \"\";position: absolute;border-left: 1px solid gray;box-sizing: border-box;top: 0;bottom: 0;left: 50%;z-index: 0;}#sk-container-id-16 div.sk-serial {display: flex;flex-direction: column;align-items: center;background-color: white;padding-right: 0.2em;padding-left: 0.2em;position: relative;}#sk-container-id-16 div.sk-item {position: relative;z-index: 1;}#sk-container-id-16 div.sk-parallel {display: flex;align-items: stretch;justify-content: center;background-color: white;position: relative;}#sk-container-id-16 div.sk-item::before, #sk-container-id-16 div.sk-parallel-item::before {content: \"\";position: absolute;border-left: 1px solid gray;box-sizing: border-box;top: 0;bottom: 0;left: 50%;z-index: -1;}#sk-container-id-16 div.sk-parallel-item {display: flex;flex-direction: column;z-index: 1;position: relative;background-color: white;}#sk-container-id-16 div.sk-parallel-item:first-child::after {align-self: flex-end;width: 50%;}#sk-container-id-16 div.sk-parallel-item:last-child::after {align-self: flex-start;width: 50%;}#sk-container-id-16 div.sk-parallel-item:only-child::after {width: 0;}#sk-container-id-16 div.sk-dashed-wrapped {border: 1px dashed gray;margin: 0 0.4em 0.5em 0.4em;box-sizing: border-box;padding-bottom: 0.4em;background-color: white;}#sk-container-id-16 div.sk-label label {font-family: monospace;font-weight: bold;display: inline-block;line-height: 1.2em;}#sk-container-id-16 div.sk-label-container {text-align: center;}#sk-container-id-16 div.sk-container {/* jupyter's `normalize.less` sets `[hidden] { display: none; }` but bootstrap.min.css set `[hidden] { display: none !important; }` so we also need the `!important` here to be able to override the default hidden behavior on the sphinx rendered scikit-learn.org. See: https://github.com/scikit-learn/scikit-learn/issues/21755 */display: inline-block !important;position: relative;}#sk-container-id-16 div.sk-text-repr-fallback {display: none;}</style><div id=\"sk-container-id-16\" class=\"sk-top-container\"><div class=\"sk-text-repr-fallback\"><pre>DecisionTreeRegressor()</pre><b>In a Jupyter environment, please rerun this cell to show the HTML representation or trust the notebook. <br />On GitHub, the HTML representation is unable to render, please try loading this page with nbviewer.org.</b></div><div class=\"sk-container\" hidden><div class=\"sk-item\"><div class=\"sk-estimator sk-toggleable\"><input class=\"sk-toggleable__control sk-hidden--visually\" id=\"sk-estimator-id-16\" type=\"checkbox\" checked><label for=\"sk-estimator-id-16\" class=\"sk-toggleable__label sk-toggleable__label-arrow\">DecisionTreeRegressor</label><div class=\"sk-toggleable__content\"><pre>DecisionTreeRegressor()</pre></div></div></div></div></div>"
      ],
      "text/plain": [
       "DecisionTreeRegressor()"
      ]
     },
     "execution_count": 98,
     "metadata": {},
     "output_type": "execute_result"
    }
   ],
   "source": [
    "model.fit(scaled,ytrain)"
   ]
  },
  {
   "cell_type": "code",
   "execution_count": 99,
   "metadata": {},
   "outputs": [],
   "source": [
    "ypred=model.predict(transformed)"
   ]
  },
  {
   "cell_type": "code",
   "execution_count": 100,
   "metadata": {},
   "outputs": [
    {
     "name": "stdout",
     "output_type": "stream",
     "text": [
      "Absloute error 163.24834319063044\n",
      "Squared error 41915.85179749826\n",
      "root mean Squared error 204.73361179224642\n"
     ]
    }
   ],
   "source": [
    "print(\"Absloute error\",mean_absolute_error(ytest,ypred))\n",
    "print(\"Squared error\",mean_squared_error(ytest,ypred))\n",
    "print(\"root mean Squared error\",np.sqrt(mean_squared_error(ytest,ypred)))"
   ]
  },
  {
   "cell_type": "markdown",
   "metadata": {},
   "source": [
    "The best model is Linear Reg for it's error is 104.00724650380167 which is the least error rate"
   ]
  },
  {
   "cell_type": "code",
   "execution_count": null,
   "metadata": {},
   "outputs": [],
   "source": []
  }
 ],
 "metadata": {
  "kernelspec": {
   "display_name": "base",
   "language": "python",
   "name": "python3"
  },
  "language_info": {
   "codemirror_mode": {
    "name": "ipython",
    "version": 3
   },
   "file_extension": ".py",
   "mimetype": "text/x-python",
   "name": "python",
   "nbconvert_exporter": "python",
   "pygments_lexer": "ipython3",
   "version": "3.11.7"
  }
 },
 "nbformat": 4,
 "nbformat_minor": 2
}
